{
 "cells": [
  {
   "cell_type": "code",
   "execution_count": 1,
   "metadata": {},
   "outputs": [
    {
     "name": "stdout",
     "output_type": "stream",
     "text": [
      "No su pudo encontrar 'config.txt'!\n"
     ]
    }
   ],
   "source": [
    "try:\n",
    "    open('config.txt')\n",
    "except FileNotFoundError:\n",
    "    print(\"No su pudo encontrar 'config.txt'!\")"
   ]
  },
  {
   "cell_type": "code",
   "execution_count": null,
   "metadata": {},
   "outputs": [],
   "source": [
    "def main():\n",
    "    try:\n",
    "        configuration = open('config.txt')\n",
    "    except FileNotFoundError:\n",
    "        print(\"No se encuentra el archivo 'config.txt'!\")"
   ]
  },
  {
   "cell_type": "code",
   "execution_count": 15,
   "metadata": {},
   "outputs": [
    {
     "name": "stdout",
     "output_type": "stream",
     "text": [
      "No se encuentra el archivo 'config.py'!\n"
     ]
    }
   ],
   "source": [
    "def main():\n",
    "    try:\n",
    "        configuration = open('config.py')\n",
    "    except FileNotFoundError:\n",
    "        print(\"No se encuentra el archivo 'config.py'!\")\n",
    "\n",
    "main()"
   ]
  },
  {
   "cell_type": "code",
   "execution_count": 14,
   "metadata": {},
   "outputs": [
    {
     "name": "stdout",
     "output_type": "stream",
     "text": [
      "No se encuentra el archivo 'config.txt'!\n"
     ]
    }
   ],
   "source": [
    "\n",
    "def main():\n",
    "    try:\n",
    "        configuration = open('config.txt')\n",
    "    except Exception:\n",
    "        print(\"No se encuentra el archivo 'config.txt'!\")\n",
    "\n",
    "main()\n"
   ]
  },
  {
   "cell_type": "code",
   "execution_count": 34,
   "metadata": {},
   "outputs": [
    {
     "name": "stdout",
     "output_type": "stream",
     "text": [
      "No se encuentra el archivo 'config.txt'\n"
     ]
    }
   ],
   "source": [
    "def main():\n",
    "    try:\n",
    "        configuration = open('config.txt')\n",
    "    except FileNotFoundError:\n",
    "        print(\"No se encuentra el archivo 'config.txt'\")\n",
    "    except IsADirectoryError:\n",
    "        print(\"Se encontró el archivo 'config.txt' pero es un directorio, no se puede leer\")\n",
    "\n",
    "main()"
   ]
  },
  {
   "cell_type": "code",
   "execution_count": null,
   "metadata": {},
   "outputs": [],
   "source": [
    "def main():\n",
    "    try:\n",
    "        configuration= open('config.txt')\n",
    "    except FileNotFoundError:\n",
    "        print(\"No se encontró el archivo 'config.txt'!\")\n",
    "    except IsADirectoryError:\n",
    "        print(\"Se encotró el archivo 'config.txt' pero no es posible leerlo\")\n",
    "    except (BlockingIOError, TimeoutError):\n",
    "        print(\"El sistema de archivos está sobrecargado, no es posible leer el archivo \")\n"
   ]
  },
  {
   "cell_type": "code",
   "execution_count": 35,
   "metadata": {},
   "outputs": [
    {
     "name": "stdout",
     "output_type": "stream",
     "text": [
      "Existe un problema tratando de leer el archivo: [Errno 2] No such file or directory: 'mars.jpg'\n"
     ]
    }
   ],
   "source": [
    "try: \n",
    "    open('mars.jpg')\n",
    "except FileNotFoundError as err:\n",
    "    print(\"Existe un problema tratando de leer el archivo:\", err)"
   ]
  },
  {
   "cell_type": "code",
   "execution_count": 36,
   "metadata": {},
   "outputs": [
    {
     "name": "stdout",
     "output_type": "stream",
     "text": [
      "No fue posible encontrar el archivo 'config,txt'\n"
     ]
    }
   ],
   "source": [
    "try:\n",
    "    open(\"config.txt\")\n",
    "except OSError as err:\n",
    "    if err.errno == 2:\n",
    "        print(\"No fue posible encontrar el archivo 'config,txt'\")\n",
    "    elif err.errno ==13:\n",
    "        print(\"Se encontró el archivo 'config.txt' pero no se puede leer\")"
   ]
  },
  {
   "cell_type": "markdown",
   "metadata": {},
   "source": [
    "Los astronuatas limitan su uso de agua  a unos 11 litros al dia. vamos a crear una función que, con base al núemero de astronautas, pueda calcular la cantidad de agua quedará despues de un día o mas:"
   ]
  },
  {
   "cell_type": "code",
   "execution_count": 39,
   "metadata": {},
   "outputs": [
    {
     "data": {
      "text/plain": [
       "'Total de agua restante despues de 2 dias es: -10 litros'"
      ]
     },
     "execution_count": 39,
     "metadata": {},
     "output_type": "execute_result"
    }
   ],
   "source": [
    "def agua_restante(astronautas, agua_restante,dias_uso):\n",
    "    uso_diario = astronautas * 11\n",
    "    uso_total = uso_diario * dias_uso\n",
    "    total_agua_restante = agua_restante - uso_total\n",
    "\n",
    "    return f\"Total de agua restante despues de {dias_uso} dias es: {total_agua_restante} litros\" \n",
    "\n",
    "\n",
    "agua_restante(5,100,2)"
   ]
  },
  {
   "cell_type": "code",
   "execution_count": 44,
   "metadata": {},
   "outputs": [
    {
     "ename": "NameError",
     "evalue": "name 'alert_navigation_system' is not defined",
     "output_type": "error",
     "traceback": [
      "\u001b[1;31m---------------------------------------------------------------------------\u001b[0m",
      "\u001b[1;31mRuntimeError\u001b[0m                              Traceback (most recent call last)",
      "\u001b[1;32mc:\\Users\\Andres\\Desktop\\Katas\\K10_Manejo_de_Errores.ipynb Cell 11'\u001b[0m in \u001b[0;36m<module>\u001b[1;34m\u001b[0m\n\u001b[0;32m     <a href='vscode-notebook-cell:/c%3A/Users/Andres/Desktop/Katas/K10_Manejo_de_Errores.ipynb#ch0000011?line=9'>10</a>\u001b[0m \u001b[39mtry\u001b[39;00m:\n\u001b[1;32m---> <a href='vscode-notebook-cell:/c%3A/Users/Andres/Desktop/Katas/K10_Manejo_de_Errores.ipynb#ch0000011?line=10'>11</a>\u001b[0m     agua_restante(\u001b[39m5\u001b[39;49m,\u001b[39m100\u001b[39;49m,\u001b[39m2\u001b[39;49m)\n\u001b[0;32m     <a href='vscode-notebook-cell:/c%3A/Users/Andres/Desktop/Katas/K10_Manejo_de_Errores.ipynb#ch0000011?line=11'>12</a>\u001b[0m \u001b[39mexcept\u001b[39;00m \u001b[39mRuntimeError\u001b[39;00m \u001b[39mas\u001b[39;00m err:\n",
      "\u001b[1;32mc:\\Users\\Andres\\Desktop\\Katas\\K10_Manejo_de_Errores.ipynb Cell 11'\u001b[0m in \u001b[0;36magua_restante\u001b[1;34m(astronautas, agua_restante, dias_uso)\u001b[0m\n\u001b[0;32m      <a href='vscode-notebook-cell:/c%3A/Users/Andres/Desktop/Katas/K10_Manejo_de_Errores.ipynb#ch0000011?line=4'>5</a>\u001b[0m \u001b[39mif\u001b[39;00m total_agua_restante \u001b[39m<\u001b[39m \u001b[39m0\u001b[39m:\n\u001b[1;32m----> <a href='vscode-notebook-cell:/c%3A/Users/Andres/Desktop/Katas/K10_Manejo_de_Errores.ipynb#ch0000011?line=5'>6</a>\u001b[0m     \u001b[39mraise\u001b[39;00m \u001b[39mRuntimeError\u001b[39;00m(\u001b[39mf\u001b[39m\u001b[39m\"\u001b[39m\u001b[39mNo hay suficiente agua para \u001b[39m\u001b[39m{\u001b[39;00mastronautas\u001b[39m}\u001b[39;00m\u001b[39m astronautas despues de \u001b[39m\u001b[39m{\u001b[39;00mdias_uso\u001b[39m}\u001b[39;00m\u001b[39m dias\u001b[39m\u001b[39m\"\u001b[39m)\n\u001b[0;32m      <a href='vscode-notebook-cell:/c%3A/Users/Andres/Desktop/Katas/K10_Manejo_de_Errores.ipynb#ch0000011?line=7'>8</a>\u001b[0m \u001b[39mreturn\u001b[39;00m \u001b[39mf\u001b[39m\u001b[39m\"\u001b[39m\u001b[39mTotal de agua restante despues de \u001b[39m\u001b[39m{\u001b[39;00mdias_uso\u001b[39m}\u001b[39;00m\u001b[39m dias es: \u001b[39m\u001b[39m{\u001b[39;00mtotal_agua_restante\u001b[39m}\u001b[39;00m\u001b[39m litros\u001b[39m\u001b[39m\"\u001b[39m\n",
      "\u001b[1;31mRuntimeError\u001b[0m: No hay suficiente agua para 5 astronautas despues de 2 dias",
      "\nDuring handling of the above exception, another exception occurred:\n",
      "\u001b[1;31mNameError\u001b[0m                                 Traceback (most recent call last)",
      "\u001b[1;32mc:\\Users\\Andres\\Desktop\\Katas\\K10_Manejo_de_Errores.ipynb Cell 11'\u001b[0m in \u001b[0;36m<module>\u001b[1;34m\u001b[0m\n\u001b[0;32m     <a href='vscode-notebook-cell:/c%3A/Users/Andres/Desktop/Katas/K10_Manejo_de_Errores.ipynb#ch0000011?line=10'>11</a>\u001b[0m     agua_restante(\u001b[39m5\u001b[39m,\u001b[39m100\u001b[39m,\u001b[39m2\u001b[39m)\n\u001b[0;32m     <a href='vscode-notebook-cell:/c%3A/Users/Andres/Desktop/Katas/K10_Manejo_de_Errores.ipynb#ch0000011?line=11'>12</a>\u001b[0m \u001b[39mexcept\u001b[39;00m \u001b[39mRuntimeError\u001b[39;00m \u001b[39mas\u001b[39;00m err:\n\u001b[1;32m---> <a href='vscode-notebook-cell:/c%3A/Users/Andres/Desktop/Katas/K10_Manejo_de_Errores.ipynb#ch0000011?line=12'>13</a>\u001b[0m     alert_navigation_system(err)\n",
      "\u001b[1;31mNameError\u001b[0m: name 'alert_navigation_system' is not defined"
     ]
    }
   ],
   "source": [
    "def agua_restante(astronautas, agua_restante,dias_uso):\n",
    "    uso_diario = astronautas * 11\n",
    "    uso_total = uso_diario * dias_uso\n",
    "    total_agua_restante = agua_restante - uso_total\n",
    "    if total_agua_restante < 0:\n",
    "        raise RuntimeError(f\"No hay suficiente agua para {astronautas} astronautas despues de {dias_uso} dias\")\n",
    "\n",
    "    return f\"Total de agua restante despues de {dias_uso} dias es: {total_agua_restante} litros\" \n",
    "\n",
    "try:\n",
    "    agua_restante(5,100,2)\n",
    "except RuntimeError as err:\n",
    "    alert_navigation_system(err)\n",
    "\n",
    "\n"
   ]
  },
  {
   "cell_type": "code",
   "execution_count": 45,
   "metadata": {},
   "outputs": [
    {
     "ename": "NameError",
     "evalue": "name 'alert_navigation_system' is not defined",
     "output_type": "error",
     "traceback": [
      "\u001b[1;31m---------------------------------------------------------------------------\u001b[0m",
      "\u001b[1;31mRuntimeError\u001b[0m                              Traceback (most recent call last)",
      "\u001b[1;32mc:\\Users\\Andres\\Desktop\\Katas\\K10_Manejo_de_Errores.ipynb Cell 12'\u001b[0m in \u001b[0;36m<module>\u001b[1;34m\u001b[0m\n\u001b[0;32m     <a href='vscode-notebook-cell:/c%3A/Users/Andres/Desktop/Katas/K10_Manejo_de_Errores.ipynb#ch0000012?line=16'>17</a>\u001b[0m \u001b[39mtry\u001b[39;00m:\n\u001b[1;32m---> <a href='vscode-notebook-cell:/c%3A/Users/Andres/Desktop/Katas/K10_Manejo_de_Errores.ipynb#ch0000012?line=17'>18</a>\u001b[0m     agua_restante(\u001b[39m5\u001b[39;49m,\u001b[39m100\u001b[39;49m,\u001b[39m2\u001b[39;49m)\n\u001b[0;32m     <a href='vscode-notebook-cell:/c%3A/Users/Andres/Desktop/Katas/K10_Manejo_de_Errores.ipynb#ch0000012?line=18'>19</a>\u001b[0m \u001b[39mexcept\u001b[39;00m \u001b[39mRuntimeError\u001b[39;00m \u001b[39mas\u001b[39;00m err:\n",
      "\u001b[1;32mc:\\Users\\Andres\\Desktop\\Katas\\K10_Manejo_de_Errores.ipynb Cell 12'\u001b[0m in \u001b[0;36magua_restante\u001b[1;34m(astronautas, agua_restante, dias_uso)\u001b[0m\n\u001b[0;32m     <a href='vscode-notebook-cell:/c%3A/Users/Andres/Desktop/Katas/K10_Manejo_de_Errores.ipynb#ch0000012?line=11'>12</a>\u001b[0m \u001b[39mif\u001b[39;00m total_agua_restante \u001b[39m<\u001b[39m \u001b[39m0\u001b[39m:\n\u001b[1;32m---> <a href='vscode-notebook-cell:/c%3A/Users/Andres/Desktop/Katas/K10_Manejo_de_Errores.ipynb#ch0000012?line=12'>13</a>\u001b[0m     \u001b[39mraise\u001b[39;00m \u001b[39mRuntimeError\u001b[39;00m(\u001b[39mf\u001b[39m\u001b[39m\"\u001b[39m\u001b[39mNo hay suficiente agua para \u001b[39m\u001b[39m{\u001b[39;00mastronautas\u001b[39m}\u001b[39;00m\u001b[39m astronautas despues de \u001b[39m\u001b[39m{\u001b[39;00mdias_uso\u001b[39m}\u001b[39;00m\u001b[39m dias\u001b[39m\u001b[39m\"\u001b[39m)\n\u001b[0;32m     <a href='vscode-notebook-cell:/c%3A/Users/Andres/Desktop/Katas/K10_Manejo_de_Errores.ipynb#ch0000012?line=14'>15</a>\u001b[0m \u001b[39mreturn\u001b[39;00m \u001b[39mf\u001b[39m\u001b[39m\"\u001b[39m\u001b[39mTotal de agua restante despues de \u001b[39m\u001b[39m{\u001b[39;00mdias_uso\u001b[39m}\u001b[39;00m\u001b[39m dias es: \u001b[39m\u001b[39m{\u001b[39;00mtotal_agua_restante\u001b[39m}\u001b[39;00m\u001b[39m litros\u001b[39m\u001b[39m\"\u001b[39m\n",
      "\u001b[1;31mRuntimeError\u001b[0m: No hay suficiente agua para 5 astronautas despues de 2 dias",
      "\nDuring handling of the above exception, another exception occurred:\n",
      "\u001b[1;31mNameError\u001b[0m                                 Traceback (most recent call last)",
      "\u001b[1;32mc:\\Users\\Andres\\Desktop\\Katas\\K10_Manejo_de_Errores.ipynb Cell 12'\u001b[0m in \u001b[0;36m<module>\u001b[1;34m\u001b[0m\n\u001b[0;32m     <a href='vscode-notebook-cell:/c%3A/Users/Andres/Desktop/Katas/K10_Manejo_de_Errores.ipynb#ch0000012?line=17'>18</a>\u001b[0m     agua_restante(\u001b[39m5\u001b[39m,\u001b[39m100\u001b[39m,\u001b[39m2\u001b[39m)\n\u001b[0;32m     <a href='vscode-notebook-cell:/c%3A/Users/Andres/Desktop/Katas/K10_Manejo_de_Errores.ipynb#ch0000012?line=18'>19</a>\u001b[0m \u001b[39mexcept\u001b[39;00m \u001b[39mRuntimeError\u001b[39;00m \u001b[39mas\u001b[39;00m err:\n\u001b[1;32m---> <a href='vscode-notebook-cell:/c%3A/Users/Andres/Desktop/Katas/K10_Manejo_de_Errores.ipynb#ch0000012?line=19'>20</a>\u001b[0m     alert_navigation_system(err)\n",
      "\u001b[1;31mNameError\u001b[0m: name 'alert_navigation_system' is not defined"
     ]
    }
   ],
   "source": [
    "def agua_restante(astronautas, agua_restante,dias_uso):\n",
    "    \n",
    "    for argument in [astronautas,agua_restante,dias_uso]:\n",
    "        try:\n",
    "            #If argumento es int, la operacion seguirá trabajando\n",
    "            argument/10\n",
    "        except TypeError:\n",
    "            raise TypeError(f\"All arguments must be of type int, but recived: '{argument}\")\n",
    "    uso_diario = astronautas * 11\n",
    "    uso_total = uso_diario * dias_uso\n",
    "    total_agua_restante = agua_restante - uso_total\n",
    "    if total_agua_restante < 0:\n",
    "        raise RuntimeError(f\"No hay suficiente agua para {astronautas} astronautas despues de {dias_uso} dias\")\n",
    "\n",
    "    return f\"Total de agua restante despues de {dias_uso} dias es: {total_agua_restante} litros\" \n",
    "\n",
    "try:\n",
    "    agua_restante(5,100,2)\n",
    "except RuntimeError as err:\n",
    "    alert_navigation_system(err)\n",
    "\n"
   ]
  }
 ],
 "metadata": {
  "interpreter": {
   "hash": "38e70f6fd9c1a1cf8f9ea60d6241066c54f81e56e1df397261c41819d7e26821"
  },
  "kernelspec": {
   "display_name": "Python 3.10.2 64-bit",
   "language": "python",
   "name": "python3"
  },
  "language_info": {
   "codemirror_mode": {
    "name": "ipython",
    "version": 3
   },
   "file_extension": ".py",
   "mimetype": "text/x-python",
   "name": "python",
   "nbconvert_exporter": "python",
   "pygments_lexer": "ipython3",
   "version": "3.10.2"
  },
  "orig_nbformat": 4
 },
 "nbformat": 4,
 "nbformat_minor": 2
}
