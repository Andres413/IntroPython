{
 "cells": [
  {
   "cell_type": "markdown",
   "metadata": {},
   "source": [
    "Escibir una lógica condicional que imprima una advertencia si un asteroide se acerca a la tierra demasiado rápido. La velocidad de asteroide varía dependiendo de lo cerca que este del sol, y cualquier velocidad superior a 25 mk/s se merece una advertencia"
   ]
  },
  {
   "cell_type": "markdown",
   "metadata": {},
   "source": [
    "Un asteroide se acerca, y viaja a una velocidad de 49 km/S"
   ]
  },
  {
   "cell_type": "code",
   "execution_count": 7,
   "metadata": {},
   "outputs": [
    {
     "name": "stdout",
     "output_type": "stream",
     "text": [
      "Un asteroide se aproxima a la tierra a una velocidad de: 49 km/s.\n"
     ]
    }
   ],
   "source": [
    "velAsteroide = 49\n",
    "\n",
    "if velAsteroide >= 25:\n",
    "    print(\"¡ALERTA! ¡Un asteroide se aproxima a la tierra a una velocidad de: \" + str(velAsteroide) + \" km/s!\")\n",
    "else:\n",
    "    print(\"¡Todo transcurre con normalida. Buen Día!\")\n",
    "    "
   ]
  },
  {
   "cell_type": "markdown",
   "metadata": {},
   "source": [
    "Si un asteroide entra en la atmósfera de la tierra a una velocidad ,mayor o igal a 20 km/s, a veces produce un rayo de luz que se puede ver desde la tierra. Escribe la lógica condicional que usa declaraciones if, else y elif para alertar a las personas de todo el mundo que deben buscar un asteroide en el cielo ¡Hay uno que se dirige a la tierra ahora a un avelocidad de 19 km/h"
   ]
  },
  {
   "cell_type": "code",
   "execution_count": 8,
   "metadata": {},
   "outputs": [
    {
     "name": "stdout",
     "output_type": "stream",
     "text": [
      "El asteroide no se puede avistar desde la tierra\n"
     ]
    }
   ],
   "source": [
    "velAst = 19\n",
    "\n",
    "if velAst > 20:\n",
    "    print(\"¡MIRA AL CIELO!¡Es posible observar una luz en el\")\n",
    "elif velAst == 20:\n",
    "    print(\"¡MIRA AL CIELO!¡Es posible observar una luz en el\")\n",
    "else:\n",
    "    print(\"¡Todo transcurre con normalidad. Buen Día!\")"
   ]
  },
  {
   "cell_type": "markdown",
   "metadata": {},
   "source": [
    "# Ejercicio: Uso de operadores and y or\n"
   ]
  },
  {
   "cell_type": "markdown",
   "metadata": {},
   "source": [
    "Información necesaria:\n",
    "    \n",
    "    *Los asteroides de menos de 25 metros en su dimensión mas grande probablemente se quemarán a medida qeu eentren a la atmósfera de la tierra.\n",
    "    * Si un apieza de un asteroide que es mas grande que 25 metros pero mas pequeña que 1000 metros golpeara la tierra, causaría mucho daño.\n",
    "\n",
    "    *La velocidad del asteroide varía en función de lo cerca que esté del sol, y cualquier velocidad superior a 25 km/s merece un advertencia.\n",
    "    * Si un steroide entra en la atmósfera de la tierra a una velocidad mayor o igual a 20 km/s, a veces produce un rayo de luz que se puede ver desde la tierra."
   ]
  },
  {
   "cell_type": "code",
   "execution_count": 18,
   "metadata": {},
   "outputs": [
    {
     "name": "stdout",
     "output_type": "stream",
     "text": [
      "Todo transcurre con normalidad. ¡Buen Día!\n"
     ]
    }
   ],
   "source": [
    "vAst = 10\n",
    "tAst = 10\n",
    "\n",
    "if tAst > 25 and vAst > 25:\n",
    "    print(\"¡ALERTA! ¡Se acerca un asteroide a la tierra, PELIGRO INMINENTE!\")\n",
    "elif tAst > 25:\n",
    "    print(\"¡ALERTA! Un asteroide de gran tamaño se aproxima a la tierra\")\n",
    "elif vAst > 25:\n",
    "    print(\"¡ALERTA! Se aproxima a la tierra un asteroide a gran velocidad\")\n",
    "elif vAst >= 20 and vAst <=25:\n",
    "    print(\"¡MIRA HACIA ARRIBA! Un asteroide se podrá avistar en el cielo\")\n",
    "else:\n",
    "    print(\"Todo transcurre con normalidad. ¡Buen Día!\")"
   ]
  }
 ],
 "metadata": {
  "interpreter": {
   "hash": "38e70f6fd9c1a1cf8f9ea60d6241066c54f81e56e1df397261c41819d7e26821"
  },
  "kernelspec": {
   "display_name": "Python 3.10.2 64-bit",
   "language": "python",
   "name": "python3"
  },
  "language_info": {
   "codemirror_mode": {
    "name": "ipython",
    "version": 3
   },
   "file_extension": ".py",
   "mimetype": "text/x-python",
   "name": "python",
   "nbconvert_exporter": "python",
   "pygments_lexer": "ipython3",
   "version": "3.10.2"
  },
  "orig_nbformat": 4
 },
 "nbformat": 4,
 "nbformat_minor": 2
}
