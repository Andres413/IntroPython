{
 "cells": [
  {
   "cell_type": "markdown",
   "metadata": {},
   "source": [
    "# Ejercicio 1: Transformar cadenas"
   ]
  },
  {
   "cell_type": "code",
   "execution_count": null,
   "metadata": {},
   "outputs": [],
   "source": [
    "text = \"\"\"Interesting facts about the moon. The Moon is Earth's only satellite. There are several interesting facts about the moon and how it affects. On average the moon moves 4 cm away from the earth every year. This yearly drinft is not significant enough to cause inmediate effects on earth\"\"\"\n",
    "text_parts = text.split('.')\n",
    "text_parts\n"
   ]
  },
  {
   "cell_type": "markdown",
   "metadata": {},
   "source": [
    "Primero, divide el texto en cada oración para trabajar con su contenido:"
   ]
  },
  {
   "cell_type": "code",
   "execution_count": null,
   "metadata": {},
   "outputs": [],
   "source": [
    "text.split('.')"
   ]
  },
  {
   "cell_type": "markdown",
   "metadata": {},
   "source": [
    "Ahora, define algunas palabras clave para búsqueda que te ayudarán a determinar si una oración contiene un hecho.\n",
    "\n",
    "* palabras: average, temperature, distance"
   ]
  },
  {
   "cell_type": "code",
   "execution_count": null,
   "metadata": {},
   "outputs": [],
   "source": [
    "KW = [\"average\",\"earth\",\"satellite\"]"
   ]
  },
  {
   "cell_type": "markdown",
   "metadata": {},
   "source": [
    "Crea un bucle para imprimir solo los datos sobre la luna que estén relacionados con las palabras clave definidas anteriormente:"
   ]
  },
  {
   "cell_type": "code",
   "execution_count": 22,
   "metadata": {},
   "outputs": [
    {
     "name": "stdout",
     "output_type": "stream",
     "text": [
      " The Moon is Earth's only satellite\n",
      " On average the moon moves 4 cm away from the earth every year\n",
      " This yearly drinft is not significant enough to cause inmediate effects on earth\n"
     ]
    }
   ],
   "source": [
    "KW = [\"average\", \"earth\", \"satellite\"]\n",
    "\n",
    "for sentence in text_parts:\n",
    "    for Kword in KW:\n",
    "        if Kword in sentence:\n",
    "            print(sentence)\n",
    "            break\n"
   ]
  },
  {
   "cell_type": "markdown",
   "metadata": {},
   "source": [
    "Finalmente, actualiza el bucle(ciclo) para cambiar cm a centimeters:"
   ]
  },
  {
   "cell_type": "code",
   "execution_count": 23,
   "metadata": {},
   "outputs": [
    {
     "name": "stdout",
     "output_type": "stream",
     "text": [
      " The Moon is Earth's only satellite\n",
      " On average the moon moves 4 centimeters away from the earth every year\n",
      " This yearly drinft is not significant enough to cause inmediate effects on earth\n"
     ]
    }
   ],
   "source": [
    "KW = [\"average\", \"earth\", \"satellite\"]\n",
    "\n",
    "for sentence in text_parts:\n",
    "    for Kword in KW:\n",
    "        if Kword in sentence:\n",
    "            print(sentence.replace('cm','centimeters'))\n",
    "            break"
   ]
  },
  {
   "cell_type": "markdown",
   "metadata": {},
   "source": [
    "# Ejercicio 2: Formateando Cadenas"
   ]
  },
  {
   "cell_type": "markdown",
   "metadata": {},
   "source": [
    "Datos"
   ]
  },
  {
   "cell_type": "code",
   "execution_count": null,
   "metadata": {},
   "outputs": [],
   "source": [
    "# datos para trabajar\n",
    "\n",
    "nombre = \"Luna\"\n",
    "gravedad = 0.99162 # en km/s\n",
    "planeta = \"tierra\""
   ]
  },
  {
   "cell_type": "markdown",
   "metadata": {},
   "source": [
    "* Crear Titulo"
   ]
  },
  {
   "cell_type": "code",
   "execution_count": null,
   "metadata": {},
   "outputs": [],
   "source": [
    "# datos para trabajar\n",
    "\n",
    "nombre = \"Luna\"\n",
    "gravedad = 0.99162 # en km/s\n",
    "planeta = \"tierra\"\n",
    "\n",
    "titulo = f'Datos de gravedad de {nombre}'\n",
    "titulo"
   ]
  },
  {
   "cell_type": "markdown",
   "metadata": {},
   "source": [
    "* cadena de cadena multilínea para contener el resto de la información"
   ]
  },
  {
   "cell_type": "code",
   "execution_count": 34,
   "metadata": {},
   "outputs": [
    {
     "data": {
      "text/plain": [
       "'----------------------------------------------------------------------------------------------------\\nNombre del planeta: tierra\\nGravedad en Luna: 991.6199999999999\\n '"
      ]
     },
     "execution_count": 34,
     "metadata": {},
     "output_type": "execute_result"
    }
   ],
   "source": [
    "plantillaInfo = f\"\"\"{'-'*100}\n",
    "Nombre del planeta: {planeta}\n",
    "Gravedad en {nombre}: {gravedad * 1000}\n",
    " \"\"\"\n",
    "\n",
    "plantillaInfo"
   ]
  },
  {
   "cell_type": "markdown",
   "metadata": {},
   "source": [
    "* Usa ambas variables para unir el titulo y la información"
   ]
  },
  {
   "cell_type": "code",
   "execution_count": 36,
   "metadata": {},
   "outputs": [
    {
     "data": {
      "text/plain": [
       "'Datos De Gravedad De Luna----------------------------------------------------------------------------------------------------\\nNombre del planeta: tierra\\nGravedad en Luna: 991.6199999999999\\n '"
      ]
     },
     "execution_count": 36,
     "metadata": {},
     "output_type": "execute_result"
    }
   ],
   "source": [
    "plantCompleta = f\"\"\"{titulo.title()}{plantillaInfo}\"\"\"\n",
    "plantCompleta"
   ]
  },
  {
   "cell_type": "markdown",
   "metadata": {},
   "source": [
    "Nuevos datos de muestra\n",
    "* planeta = 'Marte'\n",
    "* gravedad = 0.00143\n",
    "* nombre = 'ganímedes' "
   ]
  },
  {
   "cell_type": "code",
   "execution_count": 37,
   "metadata": {},
   "outputs": [
    {
     "name": "stdout",
     "output_type": "stream",
     "text": [
      "Datos De Gravedad De Luna----------------------------------------------------------------------------------------------------\n",
      "Nombre del planeta: tierra\n",
      "Gravedad en Luna: 991.6199999999999\n",
      " \n"
     ]
    }
   ],
   "source": [
    "planeta = 'Marte'\n",
    "gravedad = 0.00143\n",
    "nombre = 'ganímedes'\n",
    "\n",
    "print(plantCompleta)"
   ]
  },
  {
   "cell_type": "markdown",
   "metadata": {},
   "source": [
    "Nueva plantilla utilizando format()"
   ]
  },
  {
   "cell_type": "code",
   "execution_count": 48,
   "metadata": {},
   "outputs": [
    {
     "name": "stdout",
     "output_type": "stream",
     "text": [
      "\n",
      "Datos de la gravedad sobre ganímedes\n",
      "--------------------------------------------\n",
      "Nombre del planeta: Marte\n",
      "Gravedad en ganímedes: 0.00143 ms/s\n",
      "\n"
     ]
    }
   ],
   "source": [
    "plantFinal = \"\"\"\n",
    "Datos de la gravedad sobre {nombre}\n",
    "--------------------------------------------\n",
    "Nombre del planeta: {planeta}\n",
    "Gravedad en {nombre}: {gravedad} ms/s\n",
    "\"\"\"\n",
    "\n",
    "print(plantFinal.format(nombre = nombre,planeta = planeta, gravedad = gravedad))"
   ]
  },
  {
   "cell_type": "code",
   "execution_count": 49,
   "metadata": {},
   "outputs": [
    {
     "name": "stdout",
     "output_type": "stream",
     "text": [
      "\n",
      "Datos de la gravedad sobre ganímedes\n",
      "--------------------------------------------\n",
      "Nombre del planeta: Marte\n",
      "Gravedad en ganímedes: 1.4300000000000002 ms/s\n",
      "\n"
     ]
    }
   ],
   "source": [
    "print(plantFinal.format(nombre = nombre,planeta = planeta, gravedad = gravedad * 1000))"
   ]
  }
 ],
 "metadata": {
  "interpreter": {
   "hash": "38e70f6fd9c1a1cf8f9ea60d6241066c54f81e56e1df397261c41819d7e26821"
  },
  "kernelspec": {
   "display_name": "Python 3.10.2 64-bit",
   "language": "python",
   "name": "python3"
  },
  "language_info": {
   "codemirror_mode": {
    "name": "ipython",
    "version": 3
   },
   "file_extension": ".py",
   "mimetype": "text/x-python",
   "name": "python",
   "nbconvert_exporter": "python",
   "pygments_lexer": "ipython3",
   "version": "3.10.2"
  },
  "orig_nbformat": 4
 },
 "nbformat": 4,
 "nbformat_minor": 2
}
