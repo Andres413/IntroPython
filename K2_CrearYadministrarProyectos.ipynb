{
 "cells": [
  {
   "cell_type": "markdown",
   "metadata": {},
   "source": [
    "## Crear un entorno virtual\n",
    "a través de consola"
   ]
  },
  {
   "cell_type": "markdown",
   "metadata": {},
   "source": [
    "Creando el entorno virtual me mediante ``venv``\n",
    "\n",
    "![](../img/imagen.png)\n",
    "\n",
    "\n",
    "Activar el entorno con el comando ``\"nombreDelEntornoCreado\"\\Scripts\\activate``\n",
    "\n",
    "![](../img/imagen1.png)\n",
    "\n",
    "\n",
    "Instalar una biblioteca con ``pip install``\n",
    "\n",
    "![](../img/imagen2.png)\n",
    "\n",
    "\n",
    "Corroborar la instalación son ``pip freeze``\n",
    "\n",
    "![](../img/imagen3.png)\n",
    "\n",
    "\n",
    "Desactivar el entorno virtual con ``deactivate``\n",
    "\n",
    "![](../img/imagen4.png)\n",
    "\n",
    "\n",
    "\n",
    "\n",
    "Linea de comandos completa\n",
    "\n",
    "![](../img/imagen5.png)\n",
    "\n",
    "\n"
   ]
  }
 ],
 "metadata": {
  "interpreter": {
   "hash": "38e70f6fd9c1a1cf8f9ea60d6241066c54f81e56e1df397261c41819d7e26821"
  },
  "kernelspec": {
   "display_name": "Python 3.10.2 64-bit",
   "language": "python",
   "name": "python3"
  },
  "language_info": {
   "name": "python",
   "version": "3.10.2"
  },
  "orig_nbformat": 4
 },
 "nbformat": 4,
 "nbformat_minor": 2
}
