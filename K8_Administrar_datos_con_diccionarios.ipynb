{
 "cells": [
  {
   "cell_type": "markdown",
   "metadata": {},
   "source": [
    "### Ejercicio 1: creación de diccionarios de python"
   ]
  },
  {
   "cell_type": "markdown",
   "metadata": {},
   "source": [
    "Crear y modificar un diccionario de Python\n"
   ]
  },
  {
   "cell_type": "code",
   "execution_count": 19,
   "metadata": {},
   "outputs": [
    {
     "name": "stdout",
     "output_type": "stream",
     "text": [
      "Mars\n",
      "2\n",
      "Mars circunferencia polar: 6752\n"
     ]
    }
   ],
   "source": [
    "planet = {\n",
    "\n",
    "    'name': 'Mars',\n",
    "    'moons': 2\n",
    "\n",
    "}\n",
    "\n",
    "\n",
    "planet['name']\n",
    "planet.get('moons')\n",
    "\n",
    "print(planet['name'])\n",
    "print(planet.get('moons'))\n",
    "\n",
    "\n",
    "planet['circunferencia']= {\n",
    "    'polar': 6752,\n",
    "    'equatorial': 6792\n",
    "}\n",
    "\n",
    "\n",
    "print(f'{planet[\"name\"]} circunferencia polar: {planet[\"circunferencia\"][\"polar\"]}')"
   ]
  },
  {
   "cell_type": "markdown",
   "metadata": {},
   "source": [
    "### Ejercicio 2: Programación dinámica con diccionarios"
   ]
  },
  {
   "cell_type": "markdown",
   "metadata": {},
   "source": [
    "Ejercicio: Cálculo de valores"
   ]
  },
  {
   "cell_type": "code",
   "execution_count": 18,
   "metadata": {},
   "outputs": [
    {
     "name": "stdout",
     "output_type": "stream",
     "text": [
      "Lunas: dict_values([0, 0, 1, 79, 82, 14, 5, 2, 1, 1]) \n",
      "Número de planetas: 10\n",
      "Numero total de lunas: 185\n",
      "Promedio de lunas por planeta: 18.5\n"
     ]
    }
   ],
   "source": [
    "planet_moons = {\n",
    "    'mercurio': 0,\n",
    "    'venus': 0,\n",
    "    'tierra': 1,\n",
    "    'jupiter': 79,\n",
    "    'saturno': 82,\n",
    "    'neptuno': 14,\n",
    "    'pluton': 5,\n",
    "    'haumea': 2,\n",
    "    'makemake': 1,\n",
    "    'eris': 1\n",
    "}\n",
    "\n",
    "\n",
    "moons = planet_moons.values()\n",
    "\n",
    "planets = len(planet_moons.keys())\n",
    "\n",
    "print(f'Lunas: {moons} \\nNúmero de planetas: {planets}')\n",
    "\n",
    "total_moons = 0\n",
    "for moon in moons:\n",
    "    total_moons = total_moons + moon\n",
    "    \n",
    "print(f'Numero total de lunas: {total_moons}')\n",
    "\n",
    "\n",
    "#Calcular el promedio de lunas por planeta\n",
    "\n",
    "promedio = total_moons/planets\n",
    "\n",
    "print(f'Promedio de lunas por planeta: {promedio}')\n"
   ]
  }
 ],
 "metadata": {
  "interpreter": {
   "hash": "38e70f6fd9c1a1cf8f9ea60d6241066c54f81e56e1df397261c41819d7e26821"
  },
  "kernelspec": {
   "display_name": "Python 3.10.2 64-bit",
   "language": "python",
   "name": "python3"
  },
  "language_info": {
   "codemirror_mode": {
    "name": "ipython",
    "version": 3
   },
   "file_extension": ".py",
   "mimetype": "text/x-python",
   "name": "python",
   "nbconvert_exporter": "python",
   "pygments_lexer": "ipython3",
   "version": "3.10.2"
  },
  "orig_nbformat": 4
 },
 "nbformat": 4,
 "nbformat_minor": 2
}
