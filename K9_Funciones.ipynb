{
 "cells": [
  {
   "cell_type": "markdown",
   "metadata": {},
   "source": [
    "### Ejercicio 1: Trabajar con argumentos en fucnciones"
   ]
  },
  {
   "cell_type": "code",
   "execution_count": 10,
   "metadata": {},
   "outputs": [
    {
     "name": "stdout",
     "output_type": "stream",
     "text": [
      "Reporte de combustible: \n",
      "   Promedio total: 76.66666666666667%\n",
      "   Tanque 1: 90%\n",
      "   Tanque 2: 56%\n",
      "   Tanque 3: 84%\n",
      "   \n"
     ]
    }
   ],
   "source": [
    " def promedio(values):\n",
    "        total = sum(values)\n",
    "        numero_total_de_valores = len(values)\n",
    "        return total/numero_total_de_valores\n",
    "\n",
    "def reporte(tanque1, tanque2, tanque3): \n",
    "\n",
    "    return f\"\"\"Reporte de combustible: \n",
    "    Promedio total: {promedio([tanque1, tanque2,tanque3])}%\n",
    "    Tanque 1: {tanque1}%\n",
    "    Tanque 2: {tanque2}%\n",
    "    Tanque 3: {tanque3}%\n",
    "    \"\"\"\n",
    "\n",
    "print(reporte(90,56,84))"
   ]
  },
  {
   "cell_type": "markdown",
   "metadata": {},
   "source": [
    "### Ejercicio 2: Trabajo con argumentos de palabra clave"
   ]
  },
  {
   "cell_type": "markdown",
   "metadata": {},
   "source": [
    "Ejercicio: Trabajar con argumentos de palabras clave en fucnciones"
   ]
  },
  {
   "cell_type": "code",
   "execution_count": 13,
   "metadata": {},
   "outputs": [
    {
     "name": "stdout",
     "output_type": "stream",
     "text": [
      "\n",
      "        Misión a: Luna\n",
      "        Tiempo total al destino: 33 horas\n",
      "        Combustible: 113 galones\n",
      "     \n"
     ]
    }
   ],
   "source": [
    "def informe_mision(tiempo_prelanzamiento,tiempoAlDestino,destino,tanqueExterno,tanqueInterno):\n",
    "    return f\"\"\"\n",
    "        Misión a: {destino}\n",
    "        Tiempo total al destino: {tiempo_prelanzamiento+tiempoAlDestino} horas\n",
    "        Combustible: {tanqueExterno+tanqueInterno} galones\n",
    "     \"\"\"\n",
    "\n",
    "print(informe_mision(4,29, \"Luna\", 23,90))\n",
    "\n"
   ]
  },
  {
   "cell_type": "markdown",
   "metadata": {},
   "source": [
    "Redefinir la funcion para hacerla mas flexible utilizando *minutos y **reservas_combustible"
   ]
  },
  {
   "cell_type": "code",
   "execution_count": 16,
   "metadata": {},
   "outputs": [
    {
     "name": "stdout",
     "output_type": "stream",
     "text": [
      "\n",
      "        Misión a: luna\n",
      "        Tiempo total al destino: 133 horas\n",
      "        Combustible: 800 galones\n",
      "     \n"
     ]
    }
   ],
   "source": [
    "def informe_mision(destino,*minutos,**reservas_combustible):\n",
    "    return f\"\"\"\n",
    "        Misión a: {destino}\n",
    "        Tiempo total al destino: {sum(minutos)} horas\n",
    "        Combustible: {sum(reservas_combustible.values())} galones\n",
    "     \"\"\"\n",
    "\n",
    "print(informe_mision(\"luna\",23,45,65,principal=300,externo=500))"
   ]
  },
  {
   "cell_type": "markdown",
   "metadata": {},
   "source": [
    "Agregar  en el informe el nombre de cada tanque usado"
   ]
  },
  {
   "cell_type": "code",
   "execution_count": 19,
   "metadata": {},
   "outputs": [
    {
     "name": "stdout",
     "output_type": "stream",
     "text": [
      "\n",
      "        Misión a: luna\n",
      "        Tiempo total al destino: 133 horas\n",
      "        Combustible: 800 galones\n",
      "    \n"
     ]
    }
   ],
   "source": [
    "def informe_mision(destino,*minutos,**reservas_combustible):\n",
    "    return f\"\"\"\n",
    "        Misión a: {destino}\n",
    "        Tiempo total al destino: {sum(minutos)} horas\n",
    "        Combustible: {sum(reservas_combustible.values())} galones\n",
    "    \"\"\"\n",
    "    for tanque, galones in reservas_combustible.items():\n",
    "         informe_mision += f\"tanque {tanque} -- {galones} galones\"\n",
    "    return informe_mision\n",
    "\n",
    "print(informe_mision(\"luna\",23,45,65,principal=300,externo=500))"
   ]
  }
 ],
 "metadata": {
  "interpreter": {
   "hash": "38e70f6fd9c1a1cf8f9ea60d6241066c54f81e56e1df397261c41819d7e26821"
  },
  "kernelspec": {
   "display_name": "Python 3.10.2 64-bit",
   "language": "python",
   "name": "python3"
  },
  "language_info": {
   "codemirror_mode": {
    "name": "ipython",
    "version": 3
   },
   "file_extension": ".py",
   "mimetype": "text/x-python",
   "name": "python",
   "nbconvert_exporter": "python",
   "pygments_lexer": "ipython3",
   "version": "3.10.2"
  },
  "orig_nbformat": 4
 },
 "nbformat": 4,
 "nbformat_minor": 2
}
